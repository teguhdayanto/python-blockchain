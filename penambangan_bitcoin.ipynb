{
  "nbformat": 4,
  "nbformat_minor": 0,
  "metadata": {
    "colab": {
      "provenance": []
    },
    "kernelspec": {
      "name": "python3",
      "display_name": "Python 3"
    },
    "language_info": {
      "name": "python"
    }
  },
  "cells": [
    {
      "cell_type": "markdown",
      "source": [
        "# Penambangan Bit Coin (Mining)\n"
      ],
      "metadata": {
        "id": "c4jdYhiWz1Zl"
      }
    },
    {
      "cell_type": "markdown",
      "source": [
        "Penambangan Bitcoin (*mining*) sangat terkait dengan audit, yaitu mem-verifikasi keabsahan transaksi Bitcoin. Berikut adalah contoh *simple coding*, cara melakukan Penambangan Bitcoin dengan Python.\n"
      ],
      "metadata": {
        "id": "W6AgYpCH1acA"
      }
    },
    {
      "cell_type": "markdown",
      "source": [
        "### Definisi\n",
        "\n",
        "Penambangan Bitcoin adalah bagian dari **jaringan bitcoin peer to peer** yang berarti mengumpulkan catatan transaksi terbaru dan sepenuhnya mem-verifikasi bukti transaksi.\n",
        "\n",
        "Penambangan Bitcoin dilakukan untuk menjaga kejujuran pengguna Bitcoin. Dengan melakukan ini, penambang Bitcoin membantu Bitcoin menghindari masalah pengeluaran ganda saat menambang Bitcoin, penambang akan mem-verifikasi transaksi untuk memastikan pengguna tidak sengaja menghabiskan dua kali, pada bitcoin yang sama."
      ],
      "metadata": {
        "id": "GceASy1t1-W3"
      }
    },
    {
      "cell_type": "markdown",
      "source": [
        "Langkah Awal\n",
        "\n",
        "* import algoritma security dari hashlib\n",
        "* buat fungsi sha256\n"
      ],
      "metadata": {
        "id": "FE7i5hsx9KE6"
      }
    },
    {
      "cell_type": "markdown",
      "source": [
        "Keluarga SHA (Secure Hash Algorithm) memiliki 6 fungsi has yang berbeda: SHA-0, SHA-1, SHA-224, SHA-256, SHA-384, and SHA-512\n"
      ],
      "metadata": {
        "id": "UzqRtgtLKBBF"
      }
    },
    {
      "cell_type": "code",
      "source": [
        "x = pow(2, 256)     # 1 bits ada 2, yaitu bit 0 dan 1 maka kombinasi nya 2 pangkat 256\n",
        "print(x)\n",
        "\n",
        "# silakan kalo mau nge-hack dengan jumlah kombinasi sekian kali dibawah ini :) "
      ],
      "metadata": {
        "id": "b67mNZkAIs1C",
        "colab": {
          "base_uri": "https://localhost:8080/"
        },
        "outputId": "6dc08449-7498-48d3-9a43-d8c72c6ea115"
      },
      "execution_count": null,
      "outputs": [
        {
          "output_type": "stream",
          "name": "stdout",
          "text": [
            "115792089237316195423570985008687907853269984665640564039457584007913129639936\n"
          ]
        }
      ]
    },
    {
      "cell_type": "code",
      "source": [
        "from hashlib import sha256      # secure hash algoritma 256 bits yang akan menghasilkan text secara acak hasil dari enkripsi data (text, pic, etc)\n",
        "                                # data yang sdh dienkrip namanya hash\n",
        "MAX_NONCE = 100000000000        # max_nonce adalah nilai iterasi maksimum\n",
        "\n",
        "def SHA256(text):\n",
        "  enkripsi = sha256(text.encode(\"ascii\")).hexdigest()\n",
        "  return enkripsi\n",
        "\n",
        "print(sha256)\n"
      ],
      "metadata": {
        "id": "0SSz1_cR0CeW",
        "colab": {
          "base_uri": "https://localhost:8080/"
        },
        "outputId": "198d57c6-339d-4fb7-9725-84e3d8c1754a"
      },
      "execution_count": null,
      "outputs": [
        {
          "output_type": "stream",
          "name": "stdout",
          "text": [
            "<built-in function openssl_sha256>\n"
          ]
        }
      ]
    },
    {
      "cell_type": "markdown",
      "source": [
        "Sekarang, kita akan mendefinisikan fungsi di mana kita akan meneruskan semua parameter yang ingin kita pertimbangkan untuk menambang bitcoin.\n"
      ],
      "metadata": {
        "id": "0pakT1oECWDI"
      }
    },
    {
      "cell_type": "code",
      "source": [
        "def mine(block_number, transactions, previous_hash, prefix_zeros):\n",
        "    prefix_str = '0'*prefix_zeros\n",
        "    for nonce in range(MAX_NONCE):\n",
        "        text = str(block_number) + transactions + previous_hash + str(nonce)\n",
        "        new_hash = SHA256(text)\n",
        "        if new_hash.startswith(prefix_str):\n",
        "            print(f\"Yay! Successfully mined bitcoins with nonce value:{nonce}\")\n",
        "            return new_hash\n",
        "\n",
        "    raise BaseException(f\"Couldn't find correct has after trying {MAX_NONCE} times\")\n",
        "    "
      ],
      "metadata": {
        "id": "KjEF8n2k01an"
      },
      "execution_count": null,
      "outputs": []
    },
    {
      "cell_type": "markdown",
      "source": [
        "Kemudian kita perlu memanggil fungsi menggunakan fungsi utama. Kita juga akan membuat transaksi tiruan (simulasi) untuk Bitcoin.\n"
      ],
      "metadata": {
        "id": "rSBZEjIIC3K6"
      }
    },
    {
      "cell_type": "code",
      "source": [
        "if __name__=='__main__':\n",
        "    transactions='''\n",
        "    Sobat->Pythonian->20,\n",
        "    Amazon->Google->45\n",
        "    '''\n",
        "    difficulty=4\n",
        "    '''\n",
        "    coba ubah ini ke angka yang lebih tinggi dan kita\n",
        "    akan melihatnya akan membutuhkan lebih banyak waktu\n",
        "    untuk menambang seiring dengan meningkatnya kesulitan\n",
        "    '''\n",
        "\n",
        "    import time\n",
        "    start = time.time()\n",
        "    print(\"start mining\")\n",
        "    new_hash = mine(5,transactions,'0000000xa036944e29568d0cff17edbe038f81208fecf9a66be9a2b8321c6ec7', difficulty)\n",
        "    # hash sebelumnya dari bitcoin yang sudah ditambang\n",
        "    \n",
        "    total_time = str((time.time() - start))\n",
        "    print(f\"end mining. Mining took: {total_time} seconds\")\n",
        "    print(new_hash)\n"
      ],
      "metadata": {
        "id": "kCECEKIH1F8Q",
        "colab": {
          "base_uri": "https://localhost:8080/"
        },
        "outputId": "9fcd50ca-c296-4d5d-acc2-a402a3f40a9b"
      },
      "execution_count": null,
      "outputs": [
        {
          "output_type": "stream",
          "name": "stdout",
          "text": [
            "start mining\n",
            "Yay! Successfully mined bitcoins with nonce value:63658\n",
            "end mining. Mining took: 0.13408946990966797 seconds\n",
            "000095fc85ce800e3d15758f83ed4c6a46ac8d94983a11cdaae018eb0c6cdcd2\n"
          ]
        }
      ]
    },
    {
      "cell_type": "markdown",
      "source": [
        "Silakan cek di https://etherscan.io\n"
      ],
      "metadata": {
        "id": "SmflDosPGTFb"
      }
    }
  ]
}